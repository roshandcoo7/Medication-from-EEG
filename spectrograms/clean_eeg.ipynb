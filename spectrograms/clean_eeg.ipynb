{
  "nbformat": 4,
  "nbformat_minor": 0,
  "metadata": {
    "colab": {
      "name": "clean_eeg.ipynb",
      "provenance": [],
      "collapsed_sections": []
    },
    "kernelspec": {
      "name": "python3",
      "display_name": "Python 3",
      "language": "python"
    }
  },
  "cells": [
    {
      "cell_type": "code",
      "metadata": {
        "id": "DVXs5EOb1wuG",
        "outputId": "3c752986-cda8-4d45-9dea-04281602171f",
        "colab": {
          "base_uri": "https://localhost:8080/"
        }
      },
      "source": [
        "!pip install mne\n",
        "!pip install matplotlib"
      ],
      "execution_count": 1,
      "outputs": [
        {
          "output_type": "stream",
          "name": "stdout",
          "text": [
            "Requirement already satisfied: mne in /home/roshan/anaconda3/envs/my_env/lib/python3.8/site-packages (0.22.0)\n",
            "Requirement already satisfied: numpy>=1.11.3 in /home/roshan/anaconda3/envs/my_env/lib/python3.8/site-packages (from mne) (1.19.4)\n",
            "Requirement already satisfied: scipy>=0.17.1 in /home/roshan/anaconda3/envs/my_env/lib/python3.8/site-packages (from mne) (1.5.4)\n",
            "Requirement already satisfied: matplotlib in /home/roshan/anaconda3/envs/my_env/lib/python3.8/site-packages (3.3.3)\n",
            "Requirement already satisfied: kiwisolver>=1.0.1 in /home/roshan/anaconda3/envs/my_env/lib/python3.8/site-packages (from matplotlib) (1.3.1)\n",
            "Requirement already satisfied: python-dateutil>=2.1 in /home/roshan/anaconda3/envs/my_env/lib/python3.8/site-packages (from matplotlib) (2.8.1)\n",
            "Requirement already satisfied: numpy>=1.15 in /home/roshan/anaconda3/envs/my_env/lib/python3.8/site-packages (from matplotlib) (1.19.4)\n",
            "Requirement already satisfied: pyparsing!=2.0.4,!=2.1.2,!=2.1.6,>=2.0.3 in /home/roshan/anaconda3/envs/my_env/lib/python3.8/site-packages (from matplotlib) (2.4.7)\n",
            "Requirement already satisfied: cycler>=0.10 in /home/roshan/anaconda3/envs/my_env/lib/python3.8/site-packages (from matplotlib) (0.10.0)\n",
            "Requirement already satisfied: pillow>=6.2.0 in /home/roshan/anaconda3/envs/my_env/lib/python3.8/site-packages (from matplotlib) (8.0.1)\n",
            "Requirement already satisfied: six>=1.5 in /home/roshan/anaconda3/envs/my_env/lib/python3.8/site-packages (from python-dateutil>=2.1->matplotlib) (1.15.0)\n"
          ]
        }
      ]
    },
    {
      "cell_type": "code",
      "metadata": {
        "id": "07a8O2ZfxzSE"
      },
      "source": [
        "import mne\n",
        "import os\n",
        "import cv2\n",
        "import matplotlib.pyplot as plt\n",
        "import numpy as np\n",
        "import matplotlib.pyplot as plt\n",
        "from scipy.signal import freqz\n",
        "from scipy.signal import butter, lfilter\n",
        "from scipy.signal import spectrogram"
      ],
      "execution_count": 3,
      "outputs": []
    },
    {
      "cell_type": "markdown",
      "metadata": {
        "id": "CETX4VkfBYjH"
      },
      "source": [
        "Band pass filter with cut-off 0.5-50 Hz."
      ]
    },
    {
      "cell_type": "code",
      "metadata": {
        "id": "XeIpAqAl9-Vh"
      },
      "source": [
        "def butter_bandpass(lowcut, highcut, fs, order=5):\n",
        "    nyq = 0.5 * fs\n",
        "    low = lowcut / nyq\n",
        "    high = highcut / nyq\n",
        "    b, a = butter(order, [low, high], btype='band',analog=True)\n",
        "    return b, a\n",
        "\n",
        "\n",
        "def butter_bandpass_filter(data, lowcut, highcut, fs, order=5):\n",
        "    b, a = butter_bandpass(lowcut, highcut, fs, order=order)\n",
        "    y = lfilter(b, a, data)\n",
        "    return y"
      ],
      "execution_count": 4,
      "outputs": []
    },
    {
      "cell_type": "code",
      "metadata": {
        "id": "AMn9_xc9BWBN"
      },
      "source": [
        "def cleanAndRaw(filePath):\n",
        "\n",
        "    good_channels = ['EEG FP1-REF','EEG FP2-REF', 'EEG F3-REF', 'EEG F4-REF', 'EEG C3-REF', 'EEG C4-REF', 'EEG P3-REF', 'EEG P4-REF', 'EEG O1-REF', 'EEG O2-REF', 'EEG F7-REF', 'EEG F8-REF', 'EEG T3-REF', 'EEG T4-REF', 'EEG T5-REF', 'EEG T6-REF','EEG FZ-REF', 'EEG CZ-REF', 'EEG PZ-REF']\n",
        "    good_channels = set(good_channels)\n",
        "\n",
        "    eeg = mne.io.read_raw_edf(filePath)\n",
        "\n",
        "    eeg = eeg.resample(100, npad='auto')  \n",
        "\n",
        "    channels = eeg.info.ch_names\n",
        "\n",
        "    eeg_19 = eeg.copy()\n",
        "    for channel in channels:\n",
        "\n",
        "        if channel not in good_channels:\n",
        "\n",
        "            eeg_19.drop_channels([channel])\n",
        "\n",
        "    raw_eeg = eeg_19.get_data()\n",
        "\n",
        "    if raw_eeg.shape[0] == 19 and raw_eeg.shape[1] >= 36000:\n",
        "\n",
        "        raw_eeg  = raw_eeg - raw_eeg.mean(axis=1,keepdims=True)\n",
        "\n",
        "        fs = 100\n",
        "        lowcut = 0.5\n",
        "        highcut = 50\n",
        "\n",
        "        t = np.arange(0,raw_eeg.shape[1],1)\n",
        "\n",
        "        for i in range(19):\n",
        "            raw_eeg[i] = butter_bandpass_filter(raw_eeg[i], lowcut, highcut, fs, order=5)\n",
        "\n",
        "        raw_eeg = np.delete(raw_eeg,np.s_[:600], axis=1)    \n",
        "        raw_eeg = np.delete(raw_eeg,np.s_[30000:], axis=1)    \n",
        "\n",
        "        return raw_eeg\n",
        "\n",
        "    else:\n",
        "\n",
        "        return None"
      ],
      "execution_count": 7,
      "outputs": []
    },
    {
      "cell_type": "code",
      "execution_count": 5,
      "metadata": {},
      "outputs": [],
      "source": [
        "    \n",
        "def class_spectrogram(clas,filename):\n",
        "    if clas == 3:\n",
        "        base = cv2.imread('/home/roshan/Documents/7th_sem/MTP/Medication-from-EEG/spectrograms/channel__0.png')\n",
        "\n",
        "        i = 1\n",
        "        while i < 19:\n",
        "            im = cv2.imread('/home/roshan/Documents/7th_sem/MTP/Medication-from-EEG/spectrograms/channel__'+str(i)+'.png')\n",
        "            base = cv2.vconcat([base,im])\n",
        "\n",
        "            i += 1\n",
        "\n",
        "        cv2.imwrite('/home/roshan/Documents/7th_sem/MTP/Medication-from-EEG/spectrograms/c3/'+filename+'.png',base)"
      ]
    },
    {
      "source": [
        "Creating Spectrograms"
      ],
      "cell_type": "markdown",
      "metadata": {}
    },
    {
      "cell_type": "code",
      "execution_count": 2,
      "metadata": {},
      "outputs": [],
      "source": [
        "def class_spectrogram(path):\n",
        "    base = cv2.imread('/home/roshan/Documents/7th_sem/MTP/Medication-from-EEG/spectrograms/channel__0.png')\n",
        "\n",
        "\n",
        "    i = 1\n",
        "    while i < 19:\n",
        "        im = cv2.imread('/home/roshan/Documents/7th_sem/MTP/Medication-from-EEG/spectrograms/channel__'+str(i)+'.png')\n",
        "        base = cv2.vconcat([base,im])\n",
        "\n",
        "        i += 1\n",
        "\n",
        "    cv2.imwrite('/home/roshan/Documents/7th_sem/MTP/Medication-from-EEG/spectrograms/class__0.png',base)\n"
      ]
    },
    {
      "cell_type": "code",
      "metadata": {
        "id": "1m6VoYu_Dnwi",
        "outputId": "c89cbe25-8eda-4462-f753-b33adeea796c",
        "colab": {
          "base_uri": "https://localhost:8080/"
        },
        "tags": []
      },
      "source": [
        "# raw = cleanAndRaw('/home/roshan/Documents/7th_sem/MTP/Medication-from-EEG/00002118_s007_t001.edf')\n",
        "\n",
        "for filename in os.listdir('/home/roshan/Documents/7th_sem/MTP/Medication-from-EEG/class_3'):\n",
        "    raw = cleanAndRaw('/home/roshan/Documents/7th_sem/MTP/Medication-from-EEG/class_3/'+filename)\n",
        "# print(filename)\n",
        "    if raw is not None:\n",
        "        for i in range(19):    \n",
        "            spec,freq,t,im = plt.specgram(raw[i],Fs=100,NFFT=100,noverlap=50)\n",
        "            plt.axis('off')\n",
        "            figure = plt.gcf()\n",
        "            figure.set_size_inches(12, 1)\n",
        "            channel = 'channel__' + str(i)+'.png'\n",
        "            plt.savefig(channel,bbox_inches = 'tight',pad_inches = 0)\n",
        "            print(i,end=\" \")\n",
        "\n",
        "        class_spectrogram(3,filename[:-3])\n"
      ],
      "execution_count": 3,
      "outputs": []
    },
    {
      "source": [
        "Creating Signals\n"
      ],
      "cell_type": "markdown",
      "metadata": {}
    },
    {
      "cell_type": "code",
      "execution_count": 13,
      "metadata": {
        "tags": []
      },
      "outputs": [],
      "source": [
        "# raw = cleanAndRaw('/home/roshan/Documents/7th_sem/MTP/Medication-from-EEG/class_2/00001680_s005_t000.edf')\n",
        "\n",
        "for filename in os.listdir('/home/roshan/Documents/7th_sem/MTP/Medication-from-EEG/class_3'):\n",
        "    raw = cleanAndRaw('/home/roshan/Documents/7th_sem/MTP/Medication-from-EEG/class_3/'+filename)\n",
        "    if raw is not None:\n",
        "        np.savetxt('/home/roshan/Documents/7th_sem/MTP/Medication-from-EEG/spectrograms/c3_csv/'+filename+'.csv', raw, delimiter=',')"
      ]
    },
    {
      "cell_type": "code",
      "execution_count": null,
      "metadata": {},
      "outputs": [],
      "source": []
    }
  ]
}