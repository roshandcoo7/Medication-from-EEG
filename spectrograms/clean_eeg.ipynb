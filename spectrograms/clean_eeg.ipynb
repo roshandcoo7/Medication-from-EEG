{
  "nbformat": 4,
  "nbformat_minor": 0,
  "metadata": {
    "colab": {
      "name": "clean_eeg.ipynb",
      "provenance": [],
      "collapsed_sections": []
    },
    "kernelspec": {
      "name": "python3",
      "display_name": "Python 3",
      "language": "python"
    }
  },
  "cells": [
    {
      "cell_type": "code",
      "metadata": {
        "id": "DVXs5EOb1wuG",
        "outputId": "3c752986-cda8-4d45-9dea-04281602171f",
        "colab": {
          "base_uri": "https://localhost:8080/"
        }
      },
      "source": [
        "!pip install mne\n",
        "!pip install matplotlib"
      ],
      "execution_count": null,
      "outputs": []
    },
    {
      "cell_type": "code",
      "metadata": {
        "id": "07a8O2ZfxzSE"
      },
      "source": [
        "import mne\n",
        "import os\n",
        "import cv2\n",
        "import matplotlib.pyplot as plt\n",
        "import numpy as np\n",
        "import matplotlib.pyplot as plt\n",
        "from scipy.signal import freqz\n",
        "from scipy.signal import butter, lfilter\n",
        "from scipy.signal import spectrogram"
      ],
      "execution_count": null,
      "outputs": []
    },
    {
      "cell_type": "code",
      "metadata": {
        "id": "XeIpAqAl9-Vh"
      },
      "source": [
        "def butter_bandpass(lowcut, highcut, fs, order=5):\n",
        "    nyq = 0.5 * fs\n",
        "    low = lowcut / nyq\n",
        "    high = highcut / nyq\n",
        "    b, a = butter(order, [low, high], btype='band',analog=True)\n",
        "    return b, a\n",
        "\n",
        "\n",
        "def butter_bandpass_filter(data, lowcut, highcut, fs, order=5):\n",
        "    b, a = butter_bandpass(lowcut, highcut, fs, order=order)\n",
        "    y = lfilter(b, a, data)\n",
        "    return y"
      ],
      "execution_count": null,
      "outputs": []
    },
    {
      "source": [
        "Remove unwanted EEG signals"
      ],
      "cell_type": "markdown",
      "metadata": {}
    },
    {
      "source": [
        "def cleanAndRaw(filePath):\n",
        "\n",
        "    good_channels = ['EEG FP1-REF','EEG FP2-REF', 'EEG F3-REF', 'EEG F4-REF', 'EEG C3-REF', 'EEG C4-REF', 'EEG P3-REF', 'EEG P4-REF', 'EEG O1-REF', 'EEG O2-REF', 'EEG F7-REF', 'EEG F8-REF', 'EEG T3-REF', 'EEG T4-REF', 'EEG T5-REF', 'EEG T6-REF','EEG FZ-REF', 'EEG CZ-REF', 'EEG PZ-REF']\n",
        "    good_channels = set(good_channels)\n",
        "\n",
        "    eeg = mne.io.read_raw_edf(filePath)\n",
        "\n",
        "    eeg = eeg.resample(100, npad='auto')  \n",
        "\n",
        "    channels = eeg.info.ch_names\n",
        "\n",
        "    eeg_19 = eeg.copy()\n",
        "    for channel in channels:\n",
        "\n",
        "        if channel not in good_channels:\n",
        "\n",
        "            eeg_19.drop_channels([channel])\n",
        "\n",
        "    raw_eeg = eeg_19.get_data()\n",
        "\n",
        "    if raw_eeg.shape[0] == 19 and raw_eeg.shape[1] >= 36000:\n",
        "\n",
        "        raw_eeg  = raw_eeg - raw_eeg.mean(axis=1,keepdims=True)\n",
        "\n",
        "        fs = 100\n",
        "        lowcut = 0.5\n",
        "        highcut = 50\n",
        "\n",
        "        t = np.arange(0,raw_eeg.shape[1],1)\n",
        "\n",
        "        for i in range(19):\n",
        "            raw_eeg[i] = butter_bandpass_filter(raw_eeg[i], lowcut, highcut, fs, order=5)\n",
        "\n",
        "        raw_eeg = np.delete(raw_eeg,np.s_[:600], axis=1)    \n",
        "        raw_eeg = np.delete(raw_eeg,np.s_[30000:], axis=1)    \n",
        "\n",
        "        return raw_eeg\n",
        "\n",
        "    else:\n",
        "\n",
        "        return None"
      ],
      "cell_type": "code",
      "metadata": {
        "id": "AMn9_xc9BWBN"
      },
      "execution_count": null,
      "outputs": []
    },
    {
      "source": [
        "Make spectrograms and save them"
      ],
      "cell_type": "markdown",
      "metadata": {}
    },
    {
      "cell_type": "code",
      "metadata": {
        "id": "1m6VoYu_Dnwi",
        "outputId": "c89cbe25-8eda-4462-f753-b33adeea796c",
        "colab": {
          "base_uri": "https://localhost:8080/"
        },
        "tags": []
      },
      "source": [
        "c = 0\n",
        "for filename in os.listdir('/home/roshan/Documents/7th_sem/MTP/Medication-from-EEG/class_1'):\n",
        "    c += 1\n",
        "print(c)\n",
        "\n",
        "for filename in os.listdir('/home/roshan/Documents/7th_sem/MTP/Medication-from-EEG/class_1'):\n",
        "    raw = cleanAndRaw('/home/roshan/Documents/7th_sem/MTP/Medication-from-EEG/class_1/'+filename)\n",
        "\n",
        "    if raw is not None:\n",
        "\n",
        "        images = []\n",
        "\n",
        "        for i in range(19):    \n",
        "            print(i,end=\" \")\n",
        "            spec,freq,t,im = plt.specgram(raw[i],Fs=100,NFFT=100,noverlap=50)\n",
        "            plt.axis('off')\n",
        "            figure = plt.gcf()\n",
        "            figure.set_size_inches(12, 1)\n",
        "\n",
        "            figure.canvas.draw()\n",
        "            img = np.array(figure.canvas.buffer_rgba())\n",
        "            img = cv2.cvtColor(img, cv2.COLOR_RGBA2BGRA)\n",
        "\n",
        "            b = figure.axes[0].get_window_extent()\n",
        "            img = np.array(figure.canvas.buffer_rgba())\n",
        "            img = img[int(b.y0):int(b.y1),int(b.x0):int(b.x1),:]\n",
        "            img = cv2.cvtColor(img, cv2.COLOR_RGBA2BGRA)\n",
        "            \n",
        "            images.append(img)\n",
        "\n",
        "        base = cv2.vconcat(images)\n",
        "        # imageAsArray = np.reshape(base,(1,2745576)) #! From (1026,669,4) -> (1,1026X669X4)\n",
        "\n",
        "        # np.save('/home/roshan/Documents/7th_sem/MTP/Medication-from-EEG/spectrograms/c2/image as ndarray/'+filename[:-4]+'.npz',imageAsArray)\n",
        "        cv2.imwrite('/home/roshan/Documents/7th_sem/MTP/Medication-from-EEG/spectrograms/c1/'+filename[:-4]+'.png',base)\n",
        "\n",
        "    c -= 1\n",
        "    print(c)\n"
      ],
      "execution_count": null,
      "outputs": []
    },
    {
      "source": [
        "Save spectrograms as arrays"
      ],
      "cell_type": "markdown",
      "metadata": {}
    },
    {
      "cell_type": "code",
      "execution_count": null,
      "metadata": {
        "tags": [
          "outputPrepend"
        ]
      },
      "outputs": [],
      "source": [
        "c = 0\n",
        "for filename in os.listdir('/home/roshan/Documents/7th_sem/MTP/Medication-from-EEG/class_3'):\n",
        "    c += 1\n",
        "print(c)\n",
        "for filename in os.listdir('/home/roshan/Documents/7th_sem/MTP/Medication-from-EEG/class_3'):\n",
        "    raw = cleanAndRaw('/home/roshan/Documents/7th_sem/MTP/Medication-from-EEG/class_3/'+filename)\n",
        "    print(c)\n",
        "    c -= 1\n",
        "    if raw is not None:\n",
        "        if raw is not None:\n",
        "            S = np.empty((0,51,599),np.float64)\n",
        "            for i in range(19):\n",
        "                spec,freq,t,im = plt.specgram(raw[i],Fs=100,NFFT=100,noverlap=50)\n",
        "                S = np.append(S,np.array([spec]),axis=0)\n",
        "            linearS = np.reshape(S,(1,580431)) #! From (19,51,599) -> (1,19X51X599)\n",
        "            np.save('/home/roshan/Documents/7th_sem/MTP/Medication-from-EEG/spectrograms/c3/spectrograms as csv/'+filename[:-4]+'.csv', linearS,delimiter=',')"
      ]
    },
    {
      "source": [
        "Saving signals as ndarray\n"
      ],
      "cell_type": "markdown",
      "metadata": {}
    },
    {
      "cell_type": "code",
      "execution_count": null,
      "metadata": {
        "tags": [
          "outputPrepend"
        ]
      },
      "outputs": [],
      "source": [
        "c = 0\n",
        "for filename in os.listdir('/home/roshan/Documents/7th_sem/MTP/Medication-from-EEG/class_3'):\n",
        "    c += 1\n",
        "print(c)\n",
        "\n",
        "for filename in os.listdir('/home/roshan/Documents/7th_sem/MTP/Medication-from-EEG/class_3'):\n",
        "    raw = cleanAndRaw('/home/roshan/Documents/7th_sem/MTP/Medication-from-EEG/class_3/'+filename)\n",
        "    if raw is not None:\n",
        "        np.save('/home/roshan/Documents/7th_sem/MTP/Medication-from-EEG/spectrograms/c3/signal as ndarray/'+filename[:-4]+'.npz', raw)\n",
        "    c -= 1\n",
        "    print(c)"
      ]
    }
  ]
}